{
 "cells": [
  {
   "cell_type": "code",
   "execution_count": 82,
   "id": "f8657a71-bb0d-439c-8790-c5e7cec7d2e4",
   "metadata": {},
   "outputs": [],
   "source": [
    "import pandas as pd\n",
    "import numpy as np\n",
    "import seaborn as sns\n",
    "import matplotlib.pyplot as plt"
   ]
  },
  {
   "cell_type": "code",
   "execution_count": 83,
   "id": "6695df3d-5848-43ce-be29-b89bea99653d",
   "metadata": {},
   "outputs": [],
   "source": [
    "df = pd.read_csv(r\"C:\\Users\\hp\\Downloads\\IMDB_Movies.csv\")"
   ]
  },
  {
   "cell_type": "markdown",
   "id": "8ad3696f-13ab-426e-9c3d-6784c4849fab",
   "metadata": {},
   "source": [
    "### Exploratory data analysis"
   ]
  },
  {
   "cell_type": "code",
   "execution_count": 84,
   "id": "a0e513da-08fb-4418-a81a-d7045ae0c5bd",
   "metadata": {},
   "outputs": [
    {
     "data": {
      "text/plain": [
       "Index(['color', 'director_name', 'num_critic_for_reviews', 'duration',\n",
       "       'director_facebook_likes', 'actor_3_facebook_likes', 'actor_2_name',\n",
       "       'actor_1_facebook_likes', 'gross', 'genres', 'actor_1_name',\n",
       "       'movie_title', 'num_voted_users', 'cast_total_facebook_likes',\n",
       "       'actor_3_name', 'facenumber_in_poster', 'plot_keywords',\n",
       "       'movie_imdb_link', 'num_user_for_reviews', 'language', 'country',\n",
       "       'content_rating', 'budget', 'title_year', 'actor_2_facebook_likes',\n",
       "       'imdb_score', 'aspect_ratio', 'movie_facebook_likes'],\n",
       "      dtype='object')"
      ]
     },
     "execution_count": 84,
     "metadata": {},
     "output_type": "execute_result"
    }
   ],
   "source": [
    "df.columns"
   ]
  },
  {
   "cell_type": "code",
   "execution_count": 85,
   "id": "b9c1b7d1-7b13-43ac-9481-f04dde255b3d",
   "metadata": {},
   "outputs": [
    {
     "data": {
      "text/plain": [
       "(5043, 28)"
      ]
     },
     "execution_count": 85,
     "metadata": {},
     "output_type": "execute_result"
    }
   ],
   "source": [
    "df.shape"
   ]
  },
  {
   "cell_type": "code",
   "execution_count": 86,
   "id": "18e16ec6-18b1-4866-991e-fb82235ceecd",
   "metadata": {},
   "outputs": [
    {
     "data": {
      "text/html": [
       "<div>\n",
       "<style scoped>\n",
       "    .dataframe tbody tr th:only-of-type {\n",
       "        vertical-align: middle;\n",
       "    }\n",
       "\n",
       "    .dataframe tbody tr th {\n",
       "        vertical-align: top;\n",
       "    }\n",
       "\n",
       "    .dataframe thead th {\n",
       "        text-align: right;\n",
       "    }\n",
       "</style>\n",
       "<table border=\"1\" class=\"dataframe\">\n",
       "  <thead>\n",
       "    <tr style=\"text-align: right;\">\n",
       "      <th></th>\n",
       "      <th>color</th>\n",
       "      <th>director_name</th>\n",
       "      <th>num_critic_for_reviews</th>\n",
       "      <th>duration</th>\n",
       "      <th>director_facebook_likes</th>\n",
       "      <th>actor_3_facebook_likes</th>\n",
       "      <th>actor_2_name</th>\n",
       "      <th>actor_1_facebook_likes</th>\n",
       "      <th>gross</th>\n",
       "      <th>genres</th>\n",
       "      <th>...</th>\n",
       "      <th>num_user_for_reviews</th>\n",
       "      <th>language</th>\n",
       "      <th>country</th>\n",
       "      <th>content_rating</th>\n",
       "      <th>budget</th>\n",
       "      <th>title_year</th>\n",
       "      <th>actor_2_facebook_likes</th>\n",
       "      <th>imdb_score</th>\n",
       "      <th>aspect_ratio</th>\n",
       "      <th>movie_facebook_likes</th>\n",
       "    </tr>\n",
       "  </thead>\n",
       "  <tbody>\n",
       "    <tr>\n",
       "      <th>0</th>\n",
       "      <td>Color</td>\n",
       "      <td>James Cameron</td>\n",
       "      <td>723.0</td>\n",
       "      <td>178.0</td>\n",
       "      <td>0.0</td>\n",
       "      <td>855.0</td>\n",
       "      <td>Joel David Moore</td>\n",
       "      <td>1000.0</td>\n",
       "      <td>760505847.0</td>\n",
       "      <td>Action|Adventure|Fantasy|Sci-Fi</td>\n",
       "      <td>...</td>\n",
       "      <td>3054</td>\n",
       "      <td>English</td>\n",
       "      <td>USA</td>\n",
       "      <td>PG-13</td>\n",
       "      <td>237000000.0</td>\n",
       "      <td>2009.0</td>\n",
       "      <td>936.0</td>\n",
       "      <td>7.9</td>\n",
       "      <td>1.78</td>\n",
       "      <td>33000</td>\n",
       "    </tr>\n",
       "    <tr>\n",
       "      <th>1</th>\n",
       "      <td>Color</td>\n",
       "      <td>Gore Verbinski</td>\n",
       "      <td>302.0</td>\n",
       "      <td>169.0</td>\n",
       "      <td>563.0</td>\n",
       "      <td>1000.0</td>\n",
       "      <td>Orlando Bloom</td>\n",
       "      <td>40000.0</td>\n",
       "      <td>309404152.0</td>\n",
       "      <td>Action|Adventure|Fantasy</td>\n",
       "      <td>...</td>\n",
       "      <td>1238</td>\n",
       "      <td>English</td>\n",
       "      <td>USA</td>\n",
       "      <td>PG-13</td>\n",
       "      <td>300000000.0</td>\n",
       "      <td>2007.0</td>\n",
       "      <td>5000.0</td>\n",
       "      <td>7.1</td>\n",
       "      <td>2.35</td>\n",
       "      <td>0</td>\n",
       "    </tr>\n",
       "    <tr>\n",
       "      <th>2</th>\n",
       "      <td>Color</td>\n",
       "      <td>Sam Mendes</td>\n",
       "      <td>602.0</td>\n",
       "      <td>148.0</td>\n",
       "      <td>0.0</td>\n",
       "      <td>161.0</td>\n",
       "      <td>Rory Kinnear</td>\n",
       "      <td>11000.0</td>\n",
       "      <td>200074175.0</td>\n",
       "      <td>Action|Adventure|Thriller</td>\n",
       "      <td>...</td>\n",
       "      <td>994</td>\n",
       "      <td>English</td>\n",
       "      <td>UK</td>\n",
       "      <td>PG-13</td>\n",
       "      <td>245000000.0</td>\n",
       "      <td>2015.0</td>\n",
       "      <td>393.0</td>\n",
       "      <td>6.8</td>\n",
       "      <td>2.35</td>\n",
       "      <td>85000</td>\n",
       "    </tr>\n",
       "    <tr>\n",
       "      <th>3</th>\n",
       "      <td>Color</td>\n",
       "      <td>Christopher Nolan</td>\n",
       "      <td>813.0</td>\n",
       "      <td>164.0</td>\n",
       "      <td>22000.0</td>\n",
       "      <td>23000.0</td>\n",
       "      <td>Christian Bale</td>\n",
       "      <td>27000.0</td>\n",
       "      <td>448130642.0</td>\n",
       "      <td>Action|Thriller</td>\n",
       "      <td>...</td>\n",
       "      <td>2701</td>\n",
       "      <td>English</td>\n",
       "      <td>USA</td>\n",
       "      <td>PG-13</td>\n",
       "      <td>250000000.0</td>\n",
       "      <td>2012.0</td>\n",
       "      <td>23000.0</td>\n",
       "      <td>8.5</td>\n",
       "      <td>2.35</td>\n",
       "      <td>164000</td>\n",
       "    </tr>\n",
       "    <tr>\n",
       "      <th>4</th>\n",
       "      <td>NaN</td>\n",
       "      <td>Doug Walker</td>\n",
       "      <td>NaN</td>\n",
       "      <td>NaN</td>\n",
       "      <td>131.0</td>\n",
       "      <td>NaN</td>\n",
       "      <td>Rob Walker</td>\n",
       "      <td>131.0</td>\n",
       "      <td>NaN</td>\n",
       "      <td>Documentary</td>\n",
       "      <td>...</td>\n",
       "      <td></td>\n",
       "      <td>NaN</td>\n",
       "      <td>NaN</td>\n",
       "      <td>NaN</td>\n",
       "      <td>NaN</td>\n",
       "      <td>NaN</td>\n",
       "      <td>12.0</td>\n",
       "      <td>7.1</td>\n",
       "      <td>NaN</td>\n",
       "      <td>0</td>\n",
       "    </tr>\n",
       "  </tbody>\n",
       "</table>\n",
       "<p>5 rows × 28 columns</p>\n",
       "</div>"
      ],
      "text/plain": [
       "   color      director_name  num_critic_for_reviews  duration  \\\n",
       "0  Color      James Cameron                   723.0     178.0   \n",
       "1  Color     Gore Verbinski                   302.0     169.0   \n",
       "2  Color         Sam Mendes                   602.0     148.0   \n",
       "3  Color  Christopher Nolan                   813.0     164.0   \n",
       "4    NaN        Doug Walker                     NaN       NaN   \n",
       "\n",
       "   director_facebook_likes  actor_3_facebook_likes      actor_2_name  \\\n",
       "0                      0.0                   855.0  Joel David Moore   \n",
       "1                    563.0                  1000.0     Orlando Bloom   \n",
       "2                      0.0                   161.0      Rory Kinnear   \n",
       "3                  22000.0                 23000.0    Christian Bale   \n",
       "4                    131.0                     NaN        Rob Walker   \n",
       "\n",
       "   actor_1_facebook_likes        gross                           genres  ...  \\\n",
       "0                  1000.0  760505847.0  Action|Adventure|Fantasy|Sci-Fi  ...   \n",
       "1                 40000.0  309404152.0         Action|Adventure|Fantasy  ...   \n",
       "2                 11000.0  200074175.0        Action|Adventure|Thriller  ...   \n",
       "3                 27000.0  448130642.0                  Action|Thriller  ...   \n",
       "4                   131.0          NaN                      Documentary  ...   \n",
       "\n",
       "  num_user_for_reviews language  country  content_rating       budget  \\\n",
       "0                 3054  English      USA           PG-13  237000000.0   \n",
       "1                 1238  English      USA           PG-13  300000000.0   \n",
       "2                  994  English       UK           PG-13  245000000.0   \n",
       "3                 2701  English      USA           PG-13  250000000.0   \n",
       "4                           NaN      NaN             NaN          NaN   \n",
       "\n",
       "   title_year actor_2_facebook_likes imdb_score aspect_ratio  \\\n",
       "0      2009.0                  936.0        7.9         1.78   \n",
       "1      2007.0                 5000.0        7.1         2.35   \n",
       "2      2015.0                  393.0        6.8         2.35   \n",
       "3      2012.0                23000.0        8.5         2.35   \n",
       "4         NaN                   12.0        7.1          NaN   \n",
       "\n",
       "  movie_facebook_likes  \n",
       "0                33000  \n",
       "1                    0  \n",
       "2                85000  \n",
       "3               164000  \n",
       "4                    0  \n",
       "\n",
       "[5 rows x 28 columns]"
      ]
     },
     "execution_count": 86,
     "metadata": {},
     "output_type": "execute_result"
    }
   ],
   "source": [
    "df.head()"
   ]
  },
  {
   "cell_type": "code",
   "execution_count": 87,
   "id": "fbfdf3af-aacb-449f-8429-afd515bf5a62",
   "metadata": {},
   "outputs": [
    {
     "data": {
      "text/plain": [
       "color                         object\n",
       "director_name                 object\n",
       "num_critic_for_reviews       float64\n",
       "duration                     float64\n",
       "director_facebook_likes      float64\n",
       "actor_3_facebook_likes       float64\n",
       "actor_2_name                  object\n",
       "actor_1_facebook_likes       float64\n",
       "gross                        float64\n",
       "genres                        object\n",
       "actor_1_name                  object\n",
       "movie_title                   object\n",
       "num_voted_users                int64\n",
       "cast_total_facebook_likes      int64\n",
       "actor_3_name                  object\n",
       "facenumber_in_poster         float64\n",
       "plot_keywords                 object\n",
       "movie_imdb_link               object\n",
       "num_user_for_reviews          object\n",
       "language                      object\n",
       "country                       object\n",
       "content_rating                object\n",
       "budget                       float64\n",
       "title_year                   float64\n",
       "actor_2_facebook_likes       float64\n",
       "imdb_score                   float64\n",
       "aspect_ratio                 float64\n",
       "movie_facebook_likes           int64\n",
       "dtype: object"
      ]
     },
     "execution_count": 87,
     "metadata": {},
     "output_type": "execute_result"
    }
   ],
   "source": [
    "df.dtypes"
   ]
  },
  {
   "cell_type": "code",
   "execution_count": 88,
   "id": "d8a9cf75-8df7-4e0d-83eb-da2060fc250d",
   "metadata": {},
   "outputs": [
    {
     "data": {
      "text/plain": [
       "color                           2\n",
       "director_name                2398\n",
       "num_critic_for_reviews        528\n",
       "duration                      191\n",
       "director_facebook_likes       435\n",
       "actor_3_facebook_likes        906\n",
       "actor_2_name                 3032\n",
       "actor_1_facebook_likes        878\n",
       "gross                        4035\n",
       "genres                        914\n",
       "actor_1_name                 2097\n",
       "movie_title                  4917\n",
       "num_voted_users              4826\n",
       "cast_total_facebook_likes    3978\n",
       "actor_3_name                 3521\n",
       "facenumber_in_poster           19\n",
       "plot_keywords                4760\n",
       "movie_imdb_link              4919\n",
       "num_user_for_reviews          955\n",
       "language                       46\n",
       "country                        65\n",
       "content_rating                 18\n",
       "budget                        439\n",
       "title_year                     91\n",
       "actor_2_facebook_likes        917\n",
       "imdb_score                     78\n",
       "aspect_ratio                   22\n",
       "movie_facebook_likes          876\n",
       "dtype: int64"
      ]
     },
     "execution_count": 88,
     "metadata": {},
     "output_type": "execute_result"
    }
   ],
   "source": [
    "df.nunique()"
   ]
  },
  {
   "cell_type": "code",
   "execution_count": 89,
   "id": "75c954e4-5593-4952-8917-b51660bcf5eb",
   "metadata": {},
   "outputs": [
    {
     "data": {
      "text/plain": [
       "126"
      ]
     },
     "execution_count": 89,
     "metadata": {},
     "output_type": "execute_result"
    }
   ],
   "source": [
    "df['movie_title'].duplicated().sum()"
   ]
  },
  {
   "cell_type": "code",
   "execution_count": 90,
   "id": "e7e537ca-f0d2-4f35-885c-91c331a570c3",
   "metadata": {},
   "outputs": [],
   "source": [
    "df.drop_duplicates(subset='movie_title',keep='first',inplace=True)"
   ]
  },
  {
   "cell_type": "markdown",
   "id": "de56d334-653f-4ae4-8338-f6ff42c481ce",
   "metadata": {},
   "source": [
    "Dropped the duplicates in the movie title column because there should not be duplicate values in the records."
   ]
  },
  {
   "cell_type": "code",
   "execution_count": 91,
   "id": "fef08213-597a-4125-9ca1-e68bdc79e288",
   "metadata": {},
   "outputs": [
    {
     "data": {
      "text/plain": [
       "0"
      ]
     },
     "execution_count": 91,
     "metadata": {},
     "output_type": "execute_result"
    }
   ],
   "source": [
    "df['movie_title'].duplicated().sum()"
   ]
  },
  {
   "cell_type": "code",
   "execution_count": 92,
   "id": "db0039f7-2c93-4e12-94a7-6ca4301b02ee",
   "metadata": {},
   "outputs": [
    {
     "data": {
      "text/plain": [
       "color                         19\n",
       "director_name                102\n",
       "num_critic_for_reviews        49\n",
       "duration                      15\n",
       "director_facebook_likes      102\n",
       "actor_3_facebook_likes        23\n",
       "actor_2_name                  13\n",
       "actor_1_facebook_likes         7\n",
       "gross                        863\n",
       "genres                         0\n",
       "actor_1_name                   7\n",
       "movie_title                    0\n",
       "num_voted_users                0\n",
       "cast_total_facebook_likes      0\n",
       "actor_3_name                  23\n",
       "facenumber_in_poster          13\n",
       "plot_keywords                152\n",
       "movie_imdb_link                0\n",
       "num_user_for_reviews          20\n",
       "language                      14\n",
       "country                        5\n",
       "content_rating               300\n",
       "budget                       484\n",
       "title_year                   106\n",
       "actor_2_facebook_likes        13\n",
       "imdb_score                     0\n",
       "aspect_ratio                 326\n",
       "movie_facebook_likes           0\n",
       "dtype: int64"
      ]
     },
     "execution_count": 92,
     "metadata": {},
     "output_type": "execute_result"
    }
   ],
   "source": [
    "df.isna().sum()"
   ]
  },
  {
   "cell_type": "code",
   "execution_count": 93,
   "id": "bd45ebf5-b02f-4ba0-a135-3243f1b04de8",
   "metadata": {},
   "outputs": [
    {
     "data": {
      "text/plain": [
       "<Axes: >"
      ]
     },
     "execution_count": 93,
     "metadata": {},
     "output_type": "execute_result"
    },
    {
     "data": {
      "image/png": "[encoded data removed]",
      "text/plain": [
       "<Figure size 640x480 with 1 Axes>"
      ]
     },
     "metadata": {},
     "output_type": "display_data"
    }
   ],
   "source": [
    "sns.heatmap(df.isnull(),yticklabels=False,cbar=False,cmap='viridis')"
   ]
  },
  {
   "cell_type": "markdown",
   "id": "ad6cf37d-9538-4f19-b030-af4ef29cdb62",
   "metadata": {},
   "source": [
    "Since the gross column has roughly 50% null values and does not affect the imdb ratings (a movie’s gross is not necessarily related to its imdb rating), I dropped the gross column. The director_name column has very few null values and we cannot fill them with any values, so I dropped the records with empty director name column. I also dropped the records with null values in the language column, as we cannot fill them and the analysis is based on that column. There are very few null values in this column. I filled the null values in the budget and num user for reviews column with the mean values of the budget column. "
   ]
  },
  {
   "cell_type": "code",
   "execution_count": 94,
   "id": "f2caa4b3-75b0-43fd-9304-4263926fd39f",
   "metadata": {},
   "outputs": [],
   "source": [
    "df=df.drop(columns=['gross'])"
   ]
  },
  {
   "cell_type": "code",
   "execution_count": 95,
   "id": "1cf2c24d-b6b6-45fd-80b3-e1db00a416cb",
   "metadata": {},
   "outputs": [],
   "source": [
    "df=df.dropna(subset='director_name')"
   ]
  },
  {
   "cell_type": "code",
   "execution_count": 102,
   "id": "3b4fd77c-be5e-4c6d-8912-2997370337b4",
   "metadata": {},
   "outputs": [],
   "source": [
    "df=df.dropna(subset='language')"
   ]
  },
  {
   "cell_type": "code",
   "execution_count": 96,
   "id": "a2e83f2a-18e7-449d-99fa-6d736996b666",
   "metadata": {},
   "outputs": [
    {
     "data": {
      "text/plain": [
       "(4815, 27)"
      ]
     },
     "execution_count": 96,
     "metadata": {},
     "output_type": "execute_result"
    }
   ],
   "source": [
    "df.shape"
   ]
  },
  {
   "cell_type": "code",
   "execution_count": 97,
   "id": "45290192-d616-457a-9d38-99398d8dd927",
   "metadata": {},
   "outputs": [],
   "source": [
    "df['budget'].fillna(value=(df['budget'].mean(skipna=True)),inplace=True)"
   ]
  },
  {
   "cell_type": "code",
   "execution_count": 100,
   "id": "c5e3b87a-8c14-4ccd-94e6-537b8d93c67c",
   "metadata": {},
   "outputs": [],
   "source": [
    "df['duration'].fillna(value=(df['duration'].mean(skipna=True)),inplace=True)"
   ]
  },
  {
   "cell_type": "code",
   "execution_count": 98,
   "id": "13891b13-1f83-4794-bb70-847bb1619ec1",
   "metadata": {},
   "outputs": [
    {
     "data": {
      "text/html": [
       "<div>\n",
       "<style scoped>\n",
       "    .dataframe tbody tr th:only-of-type {\n",
       "        vertical-align: middle;\n",
       "    }\n",
       "\n",
       "    .dataframe tbody tr th {\n",
       "        vertical-align: top;\n",
       "    }\n",
       "\n",
       "    .dataframe thead th {\n",
       "        text-align: right;\n",
       "    }\n",
       "</style>\n",
       "<table border=\"1\" class=\"dataframe\">\n",
       "  <thead>\n",
       "    <tr style=\"text-align: right;\">\n",
       "      <th></th>\n",
       "      <th>num_critic_for_reviews</th>\n",
       "      <th>duration</th>\n",
       "      <th>director_facebook_likes</th>\n",
       "      <th>actor_3_facebook_likes</th>\n",
       "      <th>actor_1_facebook_likes</th>\n",
       "      <th>num_voted_users</th>\n",
       "      <th>cast_total_facebook_likes</th>\n",
       "      <th>facenumber_in_poster</th>\n",
       "      <th>budget</th>\n",
       "      <th>title_year</th>\n",
       "      <th>actor_2_facebook_likes</th>\n",
       "      <th>imdb_score</th>\n",
       "      <th>aspect_ratio</th>\n",
       "      <th>movie_facebook_likes</th>\n",
       "    </tr>\n",
       "  </thead>\n",
       "  <tbody>\n",
       "    <tr>\n",
       "      <th>count</th>\n",
       "      <td>4771.000000</td>\n",
       "      <td>4802.000000</td>\n",
       "      <td>4815.000000</td>\n",
       "      <td>4795.000000</td>\n",
       "      <td>4808.000000</td>\n",
       "      <td>4.815000e+03</td>\n",
       "      <td>4815.000000</td>\n",
       "      <td>4802.000000</td>\n",
       "      <td>4.815000e+03</td>\n",
       "      <td>4811.000000</td>\n",
       "      <td>4804.000000</td>\n",
       "      <td>4815.000000</td>\n",
       "      <td>4508.000000</td>\n",
       "      <td>4815.000000</td>\n",
       "    </tr>\n",
       "    <tr>\n",
       "      <th>mean</th>\n",
       "      <td>140.311675</td>\n",
       "      <td>108.027072</td>\n",
       "      <td>690.871028</td>\n",
       "      <td>637.194369</td>\n",
       "      <td>6600.470466</td>\n",
       "      <td>8.374087e+04</td>\n",
       "      <td>9717.517965</td>\n",
       "      <td>1.369638</td>\n",
       "      <td>3.659283e+07</td>\n",
       "      <td>2002.443567</td>\n",
       "      <td>1645.262281</td>\n",
       "      <td>6.414372</td>\n",
       "      <td>2.127986</td>\n",
       "      <td>7404.116096</td>\n",
       "    </tr>\n",
       "    <tr>\n",
       "      <th>std</th>\n",
       "      <td>120.266972</td>\n",
       "      <td>22.626609</td>\n",
       "      <td>2832.677373</td>\n",
       "      <td>1641.485312</td>\n",
       "      <td>15237.621801</td>\n",
       "      <td>1.394037e+05</td>\n",
       "      <td>18317.747598</td>\n",
       "      <td>2.022828</td>\n",
       "      <td>9.616522e+07</td>\n",
       "      <td>12.455838</td>\n",
       "      <td>4048.709668</td>\n",
       "      <td>1.118256</td>\n",
       "      <td>0.798541</td>\n",
       "      <td>19329.788164</td>\n",
       "    </tr>\n",
       "    <tr>\n",
       "      <th>min</th>\n",
       "      <td>1.000000</td>\n",
       "      <td>7.000000</td>\n",
       "      <td>0.000000</td>\n",
       "      <td>0.000000</td>\n",
       "      <td>0.000000</td>\n",
       "      <td>5.000000e+00</td>\n",
       "      <td>0.000000</td>\n",
       "      <td>0.000000</td>\n",
       "      <td>2.180000e+02</td>\n",
       "      <td>1916.000000</td>\n",
       "      <td>0.000000</td>\n",
       "      <td>1.600000</td>\n",
       "      <td>1.180000</td>\n",
       "      <td>0.000000</td>\n",
       "    </tr>\n",
       "    <tr>\n",
       "      <th>25%</th>\n",
       "      <td>52.000000</td>\n",
       "      <td>94.000000</td>\n",
       "      <td>7.000000</td>\n",
       "      <td>132.000000</td>\n",
       "      <td>611.000000</td>\n",
       "      <td>8.600500e+03</td>\n",
       "      <td>1399.500000</td>\n",
       "      <td>0.000000</td>\n",
       "      <td>7.000000e+06</td>\n",
       "      <td>1999.000000</td>\n",
       "      <td>278.000000</td>\n",
       "      <td>5.800000</td>\n",
       "      <td>1.850000</td>\n",
       "      <td>0.000000</td>\n",
       "    </tr>\n",
       "    <tr>\n",
       "      <th>50%</th>\n",
       "      <td>111.000000</td>\n",
       "      <td>104.000000</td>\n",
       "      <td>48.000000</td>\n",
       "      <td>367.000000</td>\n",
       "      <td>989.000000</td>\n",
       "      <td>3.420300e+04</td>\n",
       "      <td>3092.000000</td>\n",
       "      <td>1.000000</td>\n",
       "      <td>2.200000e+07</td>\n",
       "      <td>2005.000000</td>\n",
       "      <td>595.000000</td>\n",
       "      <td>6.500000</td>\n",
       "      <td>2.350000</td>\n",
       "      <td>158.000000</td>\n",
       "    </tr>\n",
       "    <tr>\n",
       "      <th>75%</th>\n",
       "      <td>194.000000</td>\n",
       "      <td>118.000000</td>\n",
       "      <td>189.500000</td>\n",
       "      <td>636.000000</td>\n",
       "      <td>11000.000000</td>\n",
       "      <td>9.532800e+04</td>\n",
       "      <td>13816.000000</td>\n",
       "      <td>2.000000</td>\n",
       "      <td>4.000000e+07</td>\n",
       "      <td>2011.000000</td>\n",
       "      <td>918.000000</td>\n",
       "      <td>7.200000</td>\n",
       "      <td>2.350000</td>\n",
       "      <td>2000.000000</td>\n",
       "    </tr>\n",
       "    <tr>\n",
       "      <th>max</th>\n",
       "      <td>813.000000</td>\n",
       "      <td>330.000000</td>\n",
       "      <td>23000.000000</td>\n",
       "      <td>23000.000000</td>\n",
       "      <td>640000.000000</td>\n",
       "      <td>1.689764e+06</td>\n",
       "      <td>656730.000000</td>\n",
       "      <td>43.000000</td>\n",
       "      <td>4.200000e+09</td>\n",
       "      <td>2016.000000</td>\n",
       "      <td>137000.000000</td>\n",
       "      <td>9.500000</td>\n",
       "      <td>16.000000</td>\n",
       "      <td>349000.000000</td>\n",
       "    </tr>\n",
       "  </tbody>\n",
       "</table>\n",
       "</div>"
      ],
      "text/plain": [
       "       num_critic_for_reviews     duration  director_facebook_likes  \\\n",
       "count             4771.000000  4802.000000              4815.000000   \n",
       "mean               140.311675   108.027072               690.871028   \n",
       "std                120.266972    22.626609              2832.677373   \n",
       "min                  1.000000     7.000000                 0.000000   \n",
       "25%                 52.000000    94.000000                 7.000000   \n",
       "50%                111.000000   104.000000                48.000000   \n",
       "75%                194.000000   118.000000               189.500000   \n",
       "max                813.000000   330.000000             23000.000000   \n",
       "\n",
       "       actor_3_facebook_likes  actor_1_facebook_likes  num_voted_users  \\\n",
       "count             4795.000000             4808.000000     4.815000e+03   \n",
       "mean               637.194369             6600.470466     8.374087e+04   \n",
       "std               1641.485312            15237.621801     1.394037e+05   \n",
       "min                  0.000000                0.000000     5.000000e+00   \n",
       "25%                132.000000              611.000000     8.600500e+03   \n",
       "50%                367.000000              989.000000     3.420300e+04   \n",
       "75%                636.000000            11000.000000     9.532800e+04   \n",
       "max              23000.000000           640000.000000     1.689764e+06   \n",
       "\n",
       "       cast_total_facebook_likes  facenumber_in_poster        budget  \\\n",
       "count                4815.000000           4802.000000  4.815000e+03   \n",
       "mean                 9717.517965              1.369638  3.659283e+07   \n",
       "std                 18317.747598              2.022828  9.616522e+07   \n",
       "min                     0.000000              0.000000  2.180000e+02   \n",
       "25%                  1399.500000              0.000000  7.000000e+06   \n",
       "50%                  3092.000000              1.000000  2.200000e+07   \n",
       "75%                 13816.000000              2.000000  4.000000e+07   \n",
       "max                656730.000000             43.000000  4.200000e+09   \n",
       "\n",
       "        title_year  actor_2_facebook_likes   imdb_score  aspect_ratio  \\\n",
       "count  4811.000000             4804.000000  4815.000000   4508.000000   \n",
       "mean   2002.443567             1645.262281     6.414372      2.127986   \n",
       "std      12.455838             4048.709668     1.118256      0.798541   \n",
       "min    1916.000000                0.000000     1.600000      1.180000   \n",
       "25%    1999.000000              278.000000     5.800000      1.850000   \n",
       "50%    2005.000000              595.000000     6.500000      2.350000   \n",
       "75%    2011.000000              918.000000     7.200000      2.350000   \n",
       "max    2016.000000           137000.000000     9.500000     16.000000   \n",
       "\n",
       "       movie_facebook_likes  \n",
       "count           4815.000000  \n",
       "mean            7404.116096  \n",
       "std            19329.788164  \n",
       "min                0.000000  \n",
       "25%                0.000000  \n",
       "50%              158.000000  \n",
       "75%             2000.000000  \n",
       "max           349000.000000  "
      ]
     },
     "execution_count": 98,
     "metadata": {},
     "output_type": "execute_result"
    }
   ],
   "source": [
    "df.describe()"
   ]
  },
  {
   "cell_type": "code",
   "execution_count": 103,
   "id": "ff9292be-4355-49e0-80fe-368f8e3f6ff7",
   "metadata": {},
   "outputs": [
    {
     "data": {
      "text/plain": [
       "color                         12\n",
       "director_name                  0\n",
       "num_critic_for_reviews        42\n",
       "duration                       0\n",
       "director_facebook_likes        0\n",
       "actor_3_facebook_likes        18\n",
       "actor_2_name                  10\n",
       "actor_1_facebook_likes         7\n",
       "genres                         0\n",
       "actor_1_name                   7\n",
       "movie_title                    0\n",
       "num_voted_users                0\n",
       "cast_total_facebook_likes      0\n",
       "actor_3_name                  18\n",
       "facenumber_in_poster          13\n",
       "plot_keywords                139\n",
       "movie_imdb_link                0\n",
       "num_user_for_reviews          17\n",
       "language                       0\n",
       "country                        1\n",
       "content_rating               257\n",
       "budget                         0\n",
       "title_year                     2\n",
       "actor_2_facebook_likes        10\n",
       "imdb_score                     0\n",
       "aspect_ratio                 301\n",
       "movie_facebook_likes           0\n",
       "dtype: int64"
      ]
     },
     "execution_count": 103,
     "metadata": {},
     "output_type": "execute_result"
    }
   ],
   "source": [
    "df.isna().sum()"
   ]
  },
  {
   "cell_type": "code",
   "execution_count": 107,
   "id": "22ed14aa-39cd-4930-a27f-3b87a0325b22",
   "metadata": {},
   "outputs": [],
   "source": [
    "df.to_csv('imdb.csv',index=False)"
   ]
  }
 ],
 "metadata": {
  "kernelspec": {
   "display_name": "Python 3 (ipykernel)",
   "language": "python",
   "name": "python3"
  },
  "language_info": {
   "codemirror_mode": {
    "name": "ipython",
    "version": 3
   },
   "file_extension": ".py",
   "mimetype": "text/x-python",
   "name": "python",
   "nbconvert_exporter": "python",
   "pygments_lexer": "ipython3",
   "version": "3.11.5"
  }
 },
 "nbformat": 4,
 "nbformat_minor": 5
}
